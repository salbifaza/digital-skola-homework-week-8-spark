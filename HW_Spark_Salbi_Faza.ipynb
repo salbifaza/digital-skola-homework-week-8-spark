{
  "nbformat": 4,
  "nbformat_minor": 0,
  "metadata": {
    "colab": {
      "provenance": [],
      "collapsed_sections": [
        "fsl-_7C5DYho"
      ],
      "authorship_tag": "ABX9TyOB8hvexTnR5SHMn4Ry4Tgj",
      "include_colab_link": true
    },
    "kernelspec": {
      "name": "python3",
      "display_name": "Python 3"
    },
    "language_info": {
      "name": "python"
    }
  },
  "cells": [
    {
      "cell_type": "markdown",
      "metadata": {
        "id": "view-in-github",
        "colab_type": "text"
      },
      "source": [
        "<a href=\"https://colab.research.google.com/github/salbifaza/digital-skola-homework-week-8-spark/blob/main/HW_Spark_Salbi_Faza.ipynb\" target=\"_parent\"><img src=\"https://colab.research.google.com/assets/colab-badge.svg\" alt=\"Open In Colab\"/></a>"
      ]
    },
    {
      "cell_type": "markdown",
      "source": [
        "## Homework - Spark\n",
        "Nama: Salbi Faza Rinaldi\n",
        "\n",
        "Bootcamp Data Engineer Batch 15\n",
        "\n",
        "\n",
        "## Instruksi Tugas\n",
        "\n",
        "*  Buat program menggunakan SparkSQL untuk mencari berapa Amount minimum yang dikeluarkan untuk setiap CustomerID.\n",
        "*  Tentukan Schema dari DataFrame menggunakan StructType seperti pada contoh code min-temprature-dataframe.py\n",
        "*  Column pada dataset retail-data-full.csv antara lain: InvoiceNo, StockCode, Description, Quantity, InvoiceData, Amount, CustomerID, Country\n",
        "*  File menggunakan separated “;”\n",
        "*  Simpan pada variable results, kemudian print\n",
        "*  Silahkan gunakan code program min-temprature-dataframe.py pada pertemuan sebelumnya sebagai referensi untuk menyelesaikan tugas ini\n",
        "*  Kumpulkan tugas dalam bentuk pdf atau attach link google collab\n",
        "\n"
      ],
      "metadata": {
        "id": "H1j7r5KiCz3n"
      }
    },
    {
      "cell_type": "markdown",
      "source": [
        "## Clone Git Repositories"
      ],
      "metadata": {
        "id": "8PYH6q0vIsfm"
      }
    },
    {
      "cell_type": "code",
      "source": [
        "!git clone https://github.com/salbifaza/digital-skola-homework-week-8-spark"
      ],
      "metadata": {
        "id": "6znseCB-Ivaz"
      },
      "execution_count": null,
      "outputs": []
    },
    {
      "cell_type": "markdown",
      "source": [
        "## Install Requirement Module"
      ],
      "metadata": {
        "id": "fsl-_7C5DYho"
      }
    },
    {
      "cell_type": "code",
      "execution_count": 1,
      "metadata": {
        "id": "nZzD_LvqCv5y"
      },
      "outputs": [],
      "source": [
        "!pip install -q findspark"
      ]
    },
    {
      "cell_type": "code",
      "source": [
        "!pip install pyspark"
      ],
      "metadata": {
        "colab": {
          "base_uri": "https://localhost:8080/"
        },
        "id": "pkurWG2wDY5V",
        "outputId": "706578a7-c8f9-4e7f-df1a-f399be44798c"
      },
      "execution_count": 2,
      "outputs": [
        {
          "output_type": "stream",
          "name": "stdout",
          "text": [
            "Collecting pyspark\n",
            "  Downloading pyspark-3.5.0.tar.gz (316.9 MB)\n",
            "\u001b[2K     \u001b[90m━━━━━━━━━━━━━━━━━━━━━━━━━━━━━━━━━━━━━━━━\u001b[0m \u001b[32m316.9/316.9 MB\u001b[0m \u001b[31m3.3 MB/s\u001b[0m eta \u001b[36m0:00:00\u001b[0m\n",
            "\u001b[?25h  Preparing metadata (setup.py) ... \u001b[?25l\u001b[?25hdone\n",
            "Requirement already satisfied: py4j==0.10.9.7 in /usr/local/lib/python3.10/dist-packages (from pyspark) (0.10.9.7)\n",
            "Building wheels for collected packages: pyspark\n",
            "  Building wheel for pyspark (setup.py) ... \u001b[?25l\u001b[?25hdone\n",
            "  Created wheel for pyspark: filename=pyspark-3.5.0-py2.py3-none-any.whl size=317425344 sha256=0277547a6367b0387c6771ad737a54f331ac47bba6d0204b54ef34edca263db6\n",
            "  Stored in directory: /root/.cache/pip/wheels/41/4e/10/c2cf2467f71c678cfc8a6b9ac9241e5e44a01940da8fbb17fc\n",
            "Successfully built pyspark\n",
            "Installing collected packages: pyspark\n",
            "Successfully installed pyspark-3.5.0\n"
          ]
        }
      ]
    },
    {
      "cell_type": "markdown",
      "source": [
        "## Import & Initiate Moduel\n"
      ],
      "metadata": {
        "id": "9rmUZfJDDmtv"
      }
    },
    {
      "cell_type": "code",
      "source": [
        "# Import & initate Findspark\n",
        "import findspark\n",
        "findspark.init()"
      ],
      "metadata": {
        "id": "KeLrUJvUDrFQ"
      },
      "execution_count": 3,
      "outputs": []
    },
    {
      "cell_type": "code",
      "source": [
        "# Import Spark Session\n",
        "from pyspark.sql import SparkSession\n",
        "\n",
        "# Import Spark Data Types\n",
        "from pyspark.sql.types import StructType, StructField, TimestampType, StringType, IntegerType, FloatType\n",
        "\n",
        "# Import Spark Function\n",
        "from pyspark.sql import functions as func"
      ],
      "metadata": {
        "id": "uBID9c2HD0Sl"
      },
      "execution_count": 15,
      "outputs": []
    },
    {
      "cell_type": "markdown",
      "source": [
        "## Spark Code\n"
      ],
      "metadata": {
        "id": "m0xMbyarEKeF"
      }
    },
    {
      "cell_type": "code",
      "source": [
        "# Create Spark Session\n",
        "spark = SparkSession.builder.appName('CustomerMoV').getOrCreate()"
      ],
      "metadata": {
        "id": "EwQsOg2BEmWh"
      },
      "execution_count": 5,
      "outputs": []
    },
    {
      "cell_type": "code",
      "source": [
        "# Define Schema DataFrame\n",
        "schema = StructType([ \\\n",
        "                     StructField('InvoiceNo', IntegerType(), True), \\\n",
        "                     StructField('StockCode', StringType(), True), \\\n",
        "                     StructField('Description', StringType(), True), \\\n",
        "                     StructField('Quantity', IntegerType(), True), \\\n",
        "                     StructField('InvoiceDate', TimestampType(), True), \\\n",
        "                     StructField('Amount', FloatType(), True), \\\n",
        "                     StructField('CustomerID', FloatType(), True), \\\n",
        "                     StructField('Country', StringType(), True)\n",
        "\n",
        "])"
      ],
      "metadata": {
        "id": "L_ENcjRSE8GZ"
      },
      "execution_count": 35,
      "outputs": []
    },
    {
      "cell_type": "code",
      "source": [
        "# Read File\n",
        "csv_file = \"/content/digital-skola-homework-week-8-spark/Data session 23 Spark II - retail-data-full.csv\"\n",
        "results = spark.read.option(\"delimiter\", \";\").schema(schema).csv(csv_file)"
      ],
      "metadata": {
        "id": "WsbAIDZFFPIv"
      },
      "execution_count": 36,
      "outputs": []
    },
    {
      "cell_type": "code",
      "source": [
        "# Print File\n",
        "results.show()"
      ],
      "metadata": {
        "colab": {
          "base_uri": "https://localhost:8080/"
        },
        "id": "maeAfGmhNEJ4",
        "outputId": "65be43d3-4a91-4f0e-f392-6b7f504c4fed"
      },
      "execution_count": 37,
      "outputs": [
        {
          "output_type": "stream",
          "name": "stdout",
          "text": [
            "+---------+---------+--------------------+--------+-------------------+------+----------+--------------+\n",
            "|InvoiceNo|StockCode|         Description|Quantity|        InvoiceDate|Amount|CustomerID|       Country|\n",
            "+---------+---------+--------------------+--------+-------------------+------+----------+--------------+\n",
            "|   536365|   85123A|WHITE HANGING HEA...|       6|2010-12-01 08:26:00|  2.55|   17850.0|United Kingdom|\n",
            "|   536365|    71053| WHITE METAL LANTERN|       6|2010-12-01 08:26:00|  3.39|   17850.0|United Kingdom|\n",
            "|   536365|   84406B|CREAM CUPID HEART...|       8|2010-12-01 08:26:00|  2.75|   17850.0|United Kingdom|\n",
            "|   536365|   84029G|KNITTED UNION FLA...|       6|2010-12-01 08:26:00|  3.39|   17850.0|United Kingdom|\n",
            "|   536365|   84029E|RED WOOLLY HOTTIE...|       6|2010-12-01 08:26:00|  3.39|   17850.0|United Kingdom|\n",
            "|   536365|    22752|SET 7 BABUSHKA NE...|       2|2010-12-01 08:26:00|  7.65|   17850.0|United Kingdom|\n",
            "|   536365|    21730|GLASS STAR FROSTE...|       6|2010-12-01 08:26:00|  4.25|   17850.0|United Kingdom|\n",
            "|   536366|    22633|HAND WARMER UNION...|       6|2010-12-01 08:28:00|  1.85|   17850.0|United Kingdom|\n",
            "|   536366|    22632|HAND WARMER RED P...|       6|2010-12-01 08:28:00|  1.85|   17850.0|United Kingdom|\n",
            "|   536367|    84879|ASSORTED COLOUR B...|      32|2010-12-01 08:34:00|  1.69|   13047.0|United Kingdom|\n",
            "|   536367|    22745|POPPY'S PLAYHOUSE...|       6|2010-12-01 08:34:00|   2.1|   13047.0|United Kingdom|\n",
            "|   536367|    22748|POPPY'S PLAYHOUSE...|       6|2010-12-01 08:34:00|   2.1|   13047.0|United Kingdom|\n",
            "|   536367|    22749|FELTCRAFT PRINCES...|       8|2010-12-01 08:34:00|  3.75|   13047.0|United Kingdom|\n",
            "|   536367|    22310|IVORY KNITTED MUG...|       6|2010-12-01 08:34:00|  1.65|   13047.0|United Kingdom|\n",
            "|   536367|    84969|BOX OF 6 ASSORTED...|       6|2010-12-01 08:34:00|  4.25|   13047.0|United Kingdom|\n",
            "|   536367|    22623|BOX OF VINTAGE JI...|       3|2010-12-01 08:34:00|  4.95|   13047.0|United Kingdom|\n",
            "|   536367|    22622|BOX OF VINTAGE AL...|       2|2010-12-01 08:34:00|  9.95|   13047.0|United Kingdom|\n",
            "|   536367|    21754|HOME BUILDING BLO...|       3|2010-12-01 08:34:00|  5.95|   13047.0|United Kingdom|\n",
            "|   536367|    21755|LOVE BUILDING BLO...|       3|2010-12-01 08:34:00|  5.95|   13047.0|United Kingdom|\n",
            "|   536367|    21777|RECIPE BOX WITH M...|       4|2010-12-01 08:34:00|  7.95|   13047.0|United Kingdom|\n",
            "+---------+---------+--------------------+--------+-------------------+------+----------+--------------+\n",
            "only showing top 20 rows\n",
            "\n"
          ]
        }
      ]
    },
    {
      "cell_type": "code",
      "source": [
        "# Get Customer & Minimum Amount using DataFrame\n",
        "CustomerAmount = results.select('CustomerID','Amount')\n",
        "CustomerAmount.groupBy(\"CustomerID\").min('Amount').sort('CustomerID').show(100)"
      ],
      "metadata": {
        "id": "RyjjVbKPNi0x"
      },
      "execution_count": 40,
      "outputs": []
    },
    {
      "cell_type": "code",
      "source": [
        "# Get Customer & Minimum Amount using SparkSQL\n",
        "results.createOrReplaceTempView('results')\n",
        "spark.sql('select CustomerID, min(Amount) from results group by CustomerID order by CustomerID').show(100)"
      ],
      "metadata": {
        "id": "PPK3jdMsOKPj"
      },
      "execution_count": 38,
      "outputs": []
    },
    {
      "cell_type": "markdown",
      "source": [
        "## Additional"
      ],
      "metadata": {
        "id": "aVsfTcoZP5J6"
      }
    },
    {
      "cell_type": "code",
      "source": [
        "# Hourly Transaction\n",
        "spark.sql(\"select date_format(InvoiceDate, 'y-MM-dd HH:00') as time, count(distinct InvoiceNo) as trx from results group by 1 order by 1\").show(100)"
      ],
      "metadata": {
        "colab": {
          "base_uri": "https://localhost:8080/"
        },
        "id": "rynvr37bP72U",
        "outputId": "7870b2bc-7275-44bd-9f62-863b6ce2d587"
      },
      "execution_count": 73,
      "outputs": [
        {
          "output_type": "stream",
          "name": "stdout",
          "text": [
            "+----------------+---+\n",
            "|            time|trx|\n",
            "+----------------+---+\n",
            "|2010-12-01 08:00|  6|\n",
            "|2010-12-01 09:00| 16|\n",
            "|2010-12-01 10:00| 11|\n",
            "|2010-12-01 11:00| 13|\n",
            "|2010-12-01 12:00| 22|\n",
            "|2010-12-01 13:00| 12|\n",
            "|2010-12-01 14:00| 19|\n",
            "|2010-12-01 15:00| 15|\n",
            "|2010-12-01 16:00| 17|\n",
            "|2010-12-01 17:00|  6|\n",
            "+----------------+---+\n",
            "\n"
          ]
        }
      ]
    },
    {
      "cell_type": "code",
      "source": [
        "# Top 10 Stock by Qty Sold\n",
        "spark.sql(\"select StockCode, Description, sum(quantity) as total_qty from results group by 1,2 order by 3 desc\").show(10)"
      ],
      "metadata": {
        "colab": {
          "base_uri": "https://localhost:8080/"
        },
        "id": "K9IzMXxBSVL0",
        "outputId": "ac492137-ef02-4a42-b8f6-31d141b16a9e"
      },
      "execution_count": 78,
      "outputs": [
        {
          "output_type": "stream",
          "name": "stdout",
          "text": [
            "+---------+--------------------+---------+\n",
            "|StockCode|         Description|total_qty|\n",
            "+---------+--------------------+---------+\n",
            "|    17021|NAMASTE SWAGAT IN...|      600|\n",
            "|   85099B|JUMBO BAG RED RET...|      556|\n",
            "|   84029E|RED WOOLLY HOTTIE...|      551|\n",
            "|    21232|STRAWBERRY CERAMI...|      549|\n",
            "|    21137|BLACK RECORD COVE...|      540|\n",
            "|    21731|RED TOADSTOOL LED...|      483|\n",
            "|    22466|FAIRY TALE COTTAG...|      462|\n",
            "|   85123A|WHITE HANGING HEA...|      454|\n",
            "|    20668|DISCO BALL CHRIST...|      344|\n",
            "|    22095|LADS ONLY TISSUE BOX|      338|\n",
            "+---------+--------------------+---------+\n",
            "only showing top 10 rows\n",
            "\n"
          ]
        }
      ]
    }
  ]
}